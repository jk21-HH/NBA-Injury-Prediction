{
 "cells": [
  {
   "cell_type": "code",
   "execution_count": null,
   "metadata": {},
   "outputs": [],
   "source": [
    "import numpy as np\n",
    "import pandas as pd\n",
    "import matplotlib.pyplot as plt\n",
    "import seaborn as sns\n",
    "import matplotlib as mpl\n",
    "import re"
   ]
  },
  {
   "cell_type": "code",
   "execution_count": null,
   "metadata": {},
   "outputs": [],
   "source": [
    "missed_EDA=pd.read_csv('C:\\prject\\missedgames_cleaned.csv',index_col = 0)\n",
    "stats_EDA=pd.read_csv('C:\\prject\\player_stats_cleaned.csv',index_col = 0)\n",
    "team_EDA=pd.read_csv(r'C:\\prject\\all_teams_schedule_2010_2020_cleaned.csv',index_col = 0)"
   ]
  },
  {
   "cell_type": "code",
   "execution_count": null,
   "metadata": {},
   "outputs": [],
   "source": [
    "pattern='\\((.*)\\)'\n",
    "DNP=0\n",
    "DTD=0\n",
    "out_for_season=0\n",
    "out_idefinitely=0\n",
    "unknowen_absence=0\n",
    "common_injury=['DNP','DTD','out for season','out indefinitely','unknowen absence']\n",
    "for i in missed_EDA['Notes']:\n",
    "    m=re.findall(pattern,i)\n",
    "    if m:\n",
    "        if m[0]==common_injury[0]:\n",
    "            DNP+=1\n",
    "        elif m[0]==common_injury[1]:\n",
    "            DTD+=1\n",
    "        elif m[0]==common_injury[2]:\n",
    "            out_for_season+=1\n",
    "        elif m[0]==common_injury[3]:\n",
    "            out_idefinitely+=1\n",
    "    else:\n",
    "        unknowen_absence+=1\n",
    "listt=[DNP,DTD,out_for_season,out_idefinitely,unknowen_absence]\n",
    "plot_df=pd.DataFrame({'number of injuries':listt},index=common_injury)\n",
    "plot_df\n",
    "plot = plot_df.plot.pie(y='number of injuries', figsize=(6, 6))\n",
    "plt.savefig('number_of_injuries.png', transparent = True)\n",
    "plt.show()"
   ]
  },
  {
   "cell_type": "code",
   "execution_count": null,
   "metadata": {},
   "outputs": [],
   "source": [
    "df_stats_important =stats_EDA\n",
    "indexNames = df_stats_important[ df_stats_important['MPPG'] < 20 ].index\n",
    "df_stats_important.drop(indexNames , inplace=True)\n",
    "df_stats_important.reset_index(drop=True, inplace=True)\n",
    "df_missed=missed_EDA.copy()\n",
    "df_missed['Date'] = pd.DatetimeIndex(df_missed['Date']).year\n",
    "df_missed.rename(columns={'Date':'Year'},inplace=True)\n",
    "df_missed.reset_index(drop=True, inplace=True)\n",
    "df = df_stats_important.merge(df_missed, on=['Player','Team','Year'], how='left')\n",
    "df.to_csv(r'C:\\prject\\before_important_missedgames_cleaned.csv')\n",
    "df.dropna(how='any',inplace=True)\n",
    "df.reset_index(drop=True, inplace=True)\n",
    "df.to_csv(r'C:\\prject\\important_missedgames_cleaned.csv')\n",
    "df.Year.hist(bins=10, grid = False, rwidth=0.7)\n",
    "plt.xlabel('Years')\n",
    "plt.ylabel('Amount')\n",
    "plt.title('injuries per year')\n",
    "plt.savefig('injuries_per_year.png', transparent = True)\n",
    "plt.show()"
   ]
  },
  {
   "cell_type": "code",
   "execution_count": null,
   "metadata": {},
   "outputs": [],
   "source": [
    "df.drop_duplicates(subset=['Player','Year'],keep='first',inplace=True)\n",
    "df.reset_index(drop=True, inplace=True)\n",
    "df_game_number = team_EDA.merge(missed_EDA, on=['Team','Date'], how='left')\n",
    "df_game_number.dropna(how='any',inplace=True)\n",
    "df_game_number.reset_index(drop=True, inplace=True)\n",
    "df_game_number.to_csv(r'C:\\prject\\df_game_number.csv')\n",
    "df_game_number.Game_num.hist(bins=82, grid = False, rwidth=0.7)\n",
    "plt.xlabel('Game Number')\n",
    "plt.ylabel('Amount of injuris')\n",
    "plt.title('Most common game players get injured')\n",
    "plt.savefig('common_game_injury.png', transparent = True)\n",
    "plt.show()"
   ]
  },
  {
   "cell_type": "code",
   "execution_count": null,
   "metadata": {},
   "outputs": [],
   "source": [
    "df1 = pd.DataFrame([[np.nan] * len(df.columns)], columns=df.columns)\n",
    "df = df1.append(df, ignore_index=True)\n",
    "df_dummy=df.copy()\n",
    "df_dummy['Year'].iloc[0]=2020\n",
    "df_dummy.sort_values(by=['Year'],inplace=True,ignore_index=True)\n",
    "PF=[]\n",
    "C=[]\n",
    "SF=[]\n",
    "PG=[]\n",
    "SG=[]\n",
    "PF_len=0\n",
    "C_len=0\n",
    "SF_len=0\n",
    "PG_len=0\n",
    "SG_len=0\n",
    "index = range(2010,2020)\n",
    "for i in range(0,len(df_dummy)-1):\n",
    "    if df_dummy['Pos'].iloc[i]=='PF':\n",
    "        PF_len+=1\n",
    "    if df_dummy['Pos'].iloc[i]=='C':\n",
    "        C_len+=1\n",
    "    if df_dummy['Pos'].iloc[i]=='SF':\n",
    "        SF_len+=1\n",
    "    if df_dummy['Pos'].iloc[i]=='PG':\n",
    "        PG_len+=1\n",
    "    if df_dummy['Pos'].iloc[i]=='SG':\n",
    "        SG_len+=1\n",
    "    if df_dummy['Year'].iloc[i]!=df_dummy['Year'].iloc[i+1]:\n",
    "        PF.append(PF_len)\n",
    "        C.append(C_len)\n",
    "        SF.append(SF_len)\n",
    "        PG.append(PG_len)\n",
    "        SG.append(SG_len)\n",
    "        PF_len=0\n",
    "        C_len=0\n",
    "        SF_len=0\n",
    "        PG_len=0\n",
    "        SG_len=0"
   ]
  },
  {
   "cell_type": "code",
   "execution_count": null,
   "metadata": {},
   "outputs": [],
   "source": [
    "dfgff = pd.DataFrame({'PF': PF,\n",
    "                   'C': C,\n",
    "                     'SF': SF,\n",
    "                     'PG': PG,\n",
    "                     'SG': SG,}, index=index)\n",
    "ax = dfgff.plot.bar(rot=0)\n",
    "plt.savefig('number_of_injuries.png', transparent = True)"
   ]
  }
 ],
 "metadata": {
  "kernelspec": {
   "display_name": "Python 3",
   "language": "python",
   "name": "python3"
  },
  "language_info": {
   "codemirror_mode": {
    "name": "ipython",
    "version": 3
   },
   "file_extension": ".py",
   "mimetype": "text/x-python",
   "name": "python",
   "nbconvert_exporter": "python",
   "pygments_lexer": "ipython3",
   "version": "3.8.3"
  }
 },
 "nbformat": 4,
 "nbformat_minor": 4
}
